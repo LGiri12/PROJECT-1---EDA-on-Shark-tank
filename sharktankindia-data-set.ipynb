{
 "cells": [
  {
   "cell_type": "markdown",
   "id": "2b24fc66",
   "metadata": {
    "execution": {
     "iopub.execute_input": "2022-02-21T07:58:12.423176Z",
     "iopub.status.busy": "2022-02-21T07:58:12.422639Z",
     "iopub.status.idle": "2022-02-21T07:58:12.447844Z",
     "shell.execute_reply": "2022-02-21T07:58:12.447038Z",
     "shell.execute_reply.started": "2022-02-21T07:58:12.423081Z"
    },
    "papermill": {
     "duration": 0.028442,
     "end_time": "2022-03-23T10:05:33.824459",
     "exception": false,
     "start_time": "2022-03-23T10:05:33.796017",
     "status": "completed"
    },
    "tags": []
   },
   "source": [
    "In this Notebook, I  have done Exploratory Data Analysis (EDA) of Sharktank India on Pandas Dataframe and\n",
    "I also used some basic functions of pandas which help me to understand the dataset.\n",
    "\n",
    "\n",
    "**Importing Modules**"
   ]
  },
  {
   "cell_type": "code",
   "execution_count": 1,
   "id": "8ce83027",
   "metadata": {
    "execution": {
     "iopub.execute_input": "2022-03-23T10:05:33.887501Z",
     "iopub.status.busy": "2022-03-23T10:05:33.886320Z",
     "iopub.status.idle": "2022-03-23T10:05:35.169358Z",
     "shell.execute_reply": "2022-03-23T10:05:35.168578Z",
     "shell.execute_reply.started": "2022-03-23T10:04:27.769775Z"
    },
    "papermill": {
     "duration": 1.315408,
     "end_time": "2022-03-23T10:05:35.169532",
     "exception": false,
     "start_time": "2022-03-23T10:05:33.854124",
     "status": "completed"
    },
    "tags": []
   },
   "outputs": [],
   "source": [
    "import pandas as pd\n",
    "from pandas import set_option\n",
    "import matplotlib.pyplot as plt\n",
    "import seaborn as sns\n",
    "import numpy as np\n",
    "from scipy.stats import norm\n",
    "from sklearn.preprocessing import StandardScaler\n",
    "\n",
    "from scipy import stats\n",
    "import warnings\n",
    "warnings.filterwarnings('ignore')\n",
    "%matplotlib inline\n",
    "\n"
   ]
  },
  {
   "cell_type": "code",
   "execution_count": 2,
   "id": "f9be8333",
   "metadata": {
    "execution": {
     "iopub.execute_input": "2022-03-23T10:05:35.226433Z",
     "iopub.status.busy": "2022-03-23T10:05:35.225447Z",
     "iopub.status.idle": "2022-03-23T10:05:35.262995Z",
     "shell.execute_reply": "2022-03-23T10:05:35.263512Z",
     "shell.execute_reply.started": "2022-03-23T10:04:29.119365Z"
    },
    "papermill": {
     "duration": 0.067646,
     "end_time": "2022-03-23T10:05:35.263679",
     "exception": false,
     "start_time": "2022-03-23T10:05:35.196033",
     "status": "completed"
    },
    "tags": []
   },
   "outputs": [
    {
     "data": {
      "text/html": [
       "<div>\n",
       "<style scoped>\n",
       "    .dataframe tbody tr th:only-of-type {\n",
       "        vertical-align: middle;\n",
       "    }\n",
       "\n",
       "    .dataframe tbody tr th {\n",
       "        vertical-align: top;\n",
       "    }\n",
       "\n",
       "    .dataframe thead th {\n",
       "        text-align: right;\n",
       "    }\n",
       "</style>\n",
       "<table border=\"1\" class=\"dataframe\">\n",
       "  <thead>\n",
       "    <tr style=\"text-align: right;\">\n",
       "      <th></th>\n",
       "      <th>Episode Number</th>\n",
       "      <th>Pitch Number</th>\n",
       "      <th>Brand</th>\n",
       "      <th>Idea</th>\n",
       "      <th>Investment Amount (In Lakhs INR)</th>\n",
       "      <th>Debt (In lakhs INR)</th>\n",
       "      <th>Equity</th>\n",
       "      <th>Anupam</th>\n",
       "      <th>Ashneer</th>\n",
       "      <th>Namita</th>\n",
       "      <th>Aman</th>\n",
       "      <th>Peyush</th>\n",
       "      <th>Vineeta</th>\n",
       "      <th>Ghazal</th>\n",
       "      <th>Season</th>\n",
       "    </tr>\n",
       "  </thead>\n",
       "  <tbody>\n",
       "    <tr>\n",
       "      <th>0</th>\n",
       "      <td>1</td>\n",
       "      <td>1</td>\n",
       "      <td>BluePine Industries</td>\n",
       "      <td>Frozen Momos</td>\n",
       "      <td>75</td>\n",
       "      <td>0</td>\n",
       "      <td>18%</td>\n",
       "      <td>N</td>\n",
       "      <td>Y</td>\n",
       "      <td>N</td>\n",
       "      <td>Y</td>\n",
       "      <td>N</td>\n",
       "      <td>Y</td>\n",
       "      <td>N</td>\n",
       "      <td>1</td>\n",
       "    </tr>\n",
       "    <tr>\n",
       "      <th>1</th>\n",
       "      <td>1</td>\n",
       "      <td>2</td>\n",
       "      <td>Booz scooters</td>\n",
       "      <td>Renting e-bike for mobility in private spaces</td>\n",
       "      <td>40</td>\n",
       "      <td>0</td>\n",
       "      <td>50%</td>\n",
       "      <td>N</td>\n",
       "      <td>Y</td>\n",
       "      <td>N</td>\n",
       "      <td>N</td>\n",
       "      <td>N</td>\n",
       "      <td>Y</td>\n",
       "      <td>N</td>\n",
       "      <td>1</td>\n",
       "    </tr>\n",
       "    <tr>\n",
       "      <th>2</th>\n",
       "      <td>1</td>\n",
       "      <td>3</td>\n",
       "      <td>Heart up my Sleeves</td>\n",
       "      <td>Detachable Sleeves</td>\n",
       "      <td>25</td>\n",
       "      <td>0</td>\n",
       "      <td>30%</td>\n",
       "      <td>Y</td>\n",
       "      <td>N</td>\n",
       "      <td>N</td>\n",
       "      <td>N</td>\n",
       "      <td>N</td>\n",
       "      <td>Y</td>\n",
       "      <td>N</td>\n",
       "      <td>1</td>\n",
       "    </tr>\n",
       "    <tr>\n",
       "      <th>3</th>\n",
       "      <td>2</td>\n",
       "      <td>4</td>\n",
       "      <td>Tagz Foods</td>\n",
       "      <td>Healthy Potato Chips</td>\n",
       "      <td>70</td>\n",
       "      <td>0</td>\n",
       "      <td>2.75%</td>\n",
       "      <td>N</td>\n",
       "      <td>Y</td>\n",
       "      <td>N</td>\n",
       "      <td>N</td>\n",
       "      <td>N</td>\n",
       "      <td>N</td>\n",
       "      <td>N</td>\n",
       "      <td>1</td>\n",
       "    </tr>\n",
       "    <tr>\n",
       "      <th>4</th>\n",
       "      <td>2</td>\n",
       "      <td>5</td>\n",
       "      <td>Head and Heart</td>\n",
       "      <td>Brain Development Course</td>\n",
       "      <td>0</td>\n",
       "      <td>0</td>\n",
       "      <td>0</td>\n",
       "      <td>N</td>\n",
       "      <td>N</td>\n",
       "      <td>N</td>\n",
       "      <td>N</td>\n",
       "      <td>N</td>\n",
       "      <td>N</td>\n",
       "      <td>N</td>\n",
       "      <td>1</td>\n",
       "    </tr>\n",
       "  </tbody>\n",
       "</table>\n",
       "</div>"
      ],
      "text/plain": [
       "   Episode Number  Pitch Number                Brand  \\\n",
       "0               1             1  BluePine Industries   \n",
       "1               1             2        Booz scooters   \n",
       "2               1             3  Heart up my Sleeves   \n",
       "3               2             4           Tagz Foods   \n",
       "4               2             5       Head and Heart   \n",
       "\n",
       "                                            Idea  \\\n",
       "0                                   Frozen Momos   \n",
       "1  Renting e-bike for mobility in private spaces   \n",
       "2                             Detachable Sleeves   \n",
       "3                           Healthy Potato Chips   \n",
       "4                       Brain Development Course   \n",
       "\n",
       "   Investment Amount (In Lakhs INR)   Debt (In lakhs INR) Equity Anupam  \\\n",
       "0                                 75                    0    18%      N   \n",
       "1                                 40                    0    50%      N   \n",
       "2                                 25                    0    30%      Y   \n",
       "3                                 70                    0  2.75%      N   \n",
       "4                                  0                    0      0      N   \n",
       "\n",
       "  Ashneer Namita Aman Peyush Vineeta Ghazal  Season  \n",
       "0       Y      N    Y      N       Y      N       1  \n",
       "1       Y      N    N      N       Y      N       1  \n",
       "2       N      N    N      N       Y      N       1  \n",
       "3       Y      N    N      N       N      N       1  \n",
       "4       N      N    N      N       N      N       1  "
      ]
     },
     "execution_count": 2,
     "metadata": {},
     "output_type": "execute_result"
    }
   ],
   "source": [
    "df=pd.read_csv(\"../input/shark-tank/ShartankIndiaAllPitches.csv\")  \n",
    "df.head()"
   ]
  },
  {
   "cell_type": "code",
   "execution_count": 3,
   "id": "bb45ef8a",
   "metadata": {
    "execution": {
     "iopub.execute_input": "2022-03-23T10:05:35.322963Z",
     "iopub.status.busy": "2022-03-23T10:05:35.321968Z",
     "iopub.status.idle": "2022-03-23T10:05:35.332990Z",
     "shell.execute_reply": "2022-03-23T10:05:35.333490Z",
     "shell.execute_reply.started": "2022-03-23T10:04:29.164024Z"
    },
    "papermill": {
     "duration": 0.041818,
     "end_time": "2022-03-23T10:05:35.333670",
     "exception": false,
     "start_time": "2022-03-23T10:05:35.291852",
     "status": "completed"
    },
    "tags": []
   },
   "outputs": [
    {
     "data": {
      "text/plain": [
       "Index(['Episode', 'Pitch no', 'Brand', 'Idea',\n",
       "       'Investment Amount (In Lakhs INR) ', 'Debt', 'Equity', 'Anupam',\n",
       "       'Ashneer', 'Namita', 'Aman', 'Peyush', 'Vineeta', 'Ghazal', 'Season'],\n",
       "      dtype='object')"
      ]
     },
     "execution_count": 3,
     "metadata": {},
     "output_type": "execute_result"
    }
   ],
   "source": [
    "df.rename(columns ={\"Episode Number\":\"Episode\",\n",
    "                    \"Pitch Number\":\"Pitch no\",\n",
    "                    \"Investment Amount (In Lakhs INR)\":\"Investment\",\n",
    "                    \"Debt (In lakhs INR)\":\"Debt\"},inplace=True)\n",
    "df.columns          "
   ]
  },
  {
   "cell_type": "code",
   "execution_count": 4,
   "id": "caa69d43",
   "metadata": {
    "execution": {
     "iopub.execute_input": "2022-03-23T10:05:35.392753Z",
     "iopub.status.busy": "2022-03-23T10:05:35.391771Z",
     "iopub.status.idle": "2022-03-23T10:05:35.425445Z",
     "shell.execute_reply": "2022-03-23T10:05:35.424852Z",
     "shell.execute_reply.started": "2022-03-23T10:04:29.180653Z"
    },
    "papermill": {
     "duration": 0.064062,
     "end_time": "2022-03-23T10:05:35.425593",
     "exception": false,
     "start_time": "2022-03-23T10:05:35.361531",
     "status": "completed"
    },
    "tags": []
   },
   "outputs": [
    {
     "data": {
      "text/html": [
       "<div>\n",
       "<style scoped>\n",
       "    .dataframe tbody tr th:only-of-type {\n",
       "        vertical-align: middle;\n",
       "    }\n",
       "\n",
       "    .dataframe tbody tr th {\n",
       "        vertical-align: top;\n",
       "    }\n",
       "\n",
       "    .dataframe thead th {\n",
       "        text-align: right;\n",
       "    }\n",
       "</style>\n",
       "<table border=\"1\" class=\"dataframe\">\n",
       "  <thead>\n",
       "    <tr style=\"text-align: right;\">\n",
       "      <th></th>\n",
       "      <th>Episode</th>\n",
       "      <th>Pitch no</th>\n",
       "      <th>Investment Amount (In Lakhs INR)</th>\n",
       "      <th>Debt</th>\n",
       "      <th>Season</th>\n",
       "    </tr>\n",
       "  </thead>\n",
       "  <tbody>\n",
       "    <tr>\n",
       "      <th>count</th>\n",
       "      <td>117.000000</td>\n",
       "      <td>117.000000</td>\n",
       "      <td>117.000000</td>\n",
       "      <td>117.000000</td>\n",
       "      <td>117.0</td>\n",
       "    </tr>\n",
       "    <tr>\n",
       "      <th>mean</th>\n",
       "      <td>18.735043</td>\n",
       "      <td>59.000000</td>\n",
       "      <td>21.683761</td>\n",
       "      <td>2.572650</td>\n",
       "      <td>1.0</td>\n",
       "    </tr>\n",
       "    <tr>\n",
       "      <th>std</th>\n",
       "      <td>10.070778</td>\n",
       "      <td>33.919021</td>\n",
       "      <td>26.067766</td>\n",
       "      <td>11.544753</td>\n",
       "      <td>0.0</td>\n",
       "    </tr>\n",
       "    <tr>\n",
       "      <th>min</th>\n",
       "      <td>1.000000</td>\n",
       "      <td>1.000000</td>\n",
       "      <td>0.000000</td>\n",
       "      <td>0.000000</td>\n",
       "      <td>1.0</td>\n",
       "    </tr>\n",
       "    <tr>\n",
       "      <th>25%</th>\n",
       "      <td>10.000000</td>\n",
       "      <td>30.000000</td>\n",
       "      <td>0.000000</td>\n",
       "      <td>0.000000</td>\n",
       "      <td>1.0</td>\n",
       "    </tr>\n",
       "    <tr>\n",
       "      <th>50%</th>\n",
       "      <td>19.000000</td>\n",
       "      <td>59.000000</td>\n",
       "      <td>10.000000</td>\n",
       "      <td>0.000000</td>\n",
       "      <td>1.0</td>\n",
       "    </tr>\n",
       "    <tr>\n",
       "      <th>75%</th>\n",
       "      <td>27.000000</td>\n",
       "      <td>88.000000</td>\n",
       "      <td>50.000000</td>\n",
       "      <td>0.000000</td>\n",
       "      <td>1.0</td>\n",
       "    </tr>\n",
       "    <tr>\n",
       "      <th>max</th>\n",
       "      <td>35.000000</td>\n",
       "      <td>117.000000</td>\n",
       "      <td>80.000000</td>\n",
       "      <td>99.000000</td>\n",
       "      <td>1.0</td>\n",
       "    </tr>\n",
       "  </tbody>\n",
       "</table>\n",
       "</div>"
      ],
      "text/plain": [
       "          Episode    Pitch no  Investment Amount (In Lakhs INR)         Debt  \\\n",
       "count  117.000000  117.000000                         117.000000  117.000000   \n",
       "mean    18.735043   59.000000                          21.683761    2.572650   \n",
       "std     10.070778   33.919021                          26.067766   11.544753   \n",
       "min      1.000000    1.000000                           0.000000    0.000000   \n",
       "25%     10.000000   30.000000                           0.000000    0.000000   \n",
       "50%     19.000000   59.000000                          10.000000    0.000000   \n",
       "75%     27.000000   88.000000                          50.000000    0.000000   \n",
       "max     35.000000  117.000000                          80.000000   99.000000   \n",
       "\n",
       "       Season  \n",
       "count   117.0  \n",
       "mean      1.0  \n",
       "std       0.0  \n",
       "min       1.0  \n",
       "25%       1.0  \n",
       "50%       1.0  \n",
       "75%       1.0  \n",
       "max       1.0  "
      ]
     },
     "execution_count": 4,
     "metadata": {},
     "output_type": "execute_result"
    }
   ],
   "source": [
    "df.describe()"
   ]
  },
  {
   "cell_type": "code",
   "execution_count": 5,
   "id": "fdbc135f",
   "metadata": {
    "execution": {
     "iopub.execute_input": "2022-03-23T10:05:35.490815Z",
     "iopub.status.busy": "2022-03-23T10:05:35.490155Z",
     "iopub.status.idle": "2022-03-23T10:05:35.530568Z",
     "shell.execute_reply": "2022-03-23T10:05:35.531109Z",
     "shell.execute_reply.started": "2022-03-23T10:04:29.219952Z"
    },
    "papermill": {
     "duration": 0.076946,
     "end_time": "2022-03-23T10:05:35.531291",
     "exception": false,
     "start_time": "2022-03-23T10:05:35.454345",
     "status": "completed"
    },
    "tags": []
   },
   "outputs": [
    {
     "data": {
      "text/html": [
       "<div>\n",
       "<style scoped>\n",
       "    .dataframe tbody tr th:only-of-type {\n",
       "        vertical-align: middle;\n",
       "    }\n",
       "\n",
       "    .dataframe tbody tr th {\n",
       "        vertical-align: top;\n",
       "    }\n",
       "\n",
       "    .dataframe thead th {\n",
       "        text-align: right;\n",
       "    }\n",
       "</style>\n",
       "<table border=\"1\" class=\"dataframe\">\n",
       "  <thead>\n",
       "    <tr style=\"text-align: right;\">\n",
       "      <th></th>\n",
       "      <th>Episode</th>\n",
       "      <th>Pitch no</th>\n",
       "      <th>Brand</th>\n",
       "      <th>Idea</th>\n",
       "      <th>Investment Amount (In Lakhs INR)</th>\n",
       "      <th>Debt</th>\n",
       "      <th>Equity</th>\n",
       "      <th>Anupam</th>\n",
       "      <th>Ashneer</th>\n",
       "      <th>Namita</th>\n",
       "      <th>Aman</th>\n",
       "      <th>Peyush</th>\n",
       "      <th>Vineeta</th>\n",
       "      <th>Ghazal</th>\n",
       "      <th>Season</th>\n",
       "    </tr>\n",
       "  </thead>\n",
       "  <tbody>\n",
       "    <tr>\n",
       "      <th>count</th>\n",
       "      <td>117.000000</td>\n",
       "      <td>117.000000</td>\n",
       "      <td>117</td>\n",
       "      <td>117</td>\n",
       "      <td>117.000000</td>\n",
       "      <td>117.000000</td>\n",
       "      <td>117</td>\n",
       "      <td>117</td>\n",
       "      <td>117</td>\n",
       "      <td>117</td>\n",
       "      <td>117</td>\n",
       "      <td>117</td>\n",
       "      <td>117</td>\n",
       "      <td>117</td>\n",
       "      <td>117.0</td>\n",
       "    </tr>\n",
       "    <tr>\n",
       "      <th>unique</th>\n",
       "      <td>NaN</td>\n",
       "      <td>NaN</td>\n",
       "      <td>117</td>\n",
       "      <td>117</td>\n",
       "      <td>NaN</td>\n",
       "      <td>NaN</td>\n",
       "      <td>39</td>\n",
       "      <td>2</td>\n",
       "      <td>2</td>\n",
       "      <td>2</td>\n",
       "      <td>2</td>\n",
       "      <td>2</td>\n",
       "      <td>2</td>\n",
       "      <td>2</td>\n",
       "      <td>NaN</td>\n",
       "    </tr>\n",
       "    <tr>\n",
       "      <th>top</th>\n",
       "      <td>NaN</td>\n",
       "      <td>NaN</td>\n",
       "      <td>BluePine Industries</td>\n",
       "      <td>Frozen Momos</td>\n",
       "      <td>NaN</td>\n",
       "      <td>NaN</td>\n",
       "      <td>0</td>\n",
       "      <td>N</td>\n",
       "      <td>N</td>\n",
       "      <td>N</td>\n",
       "      <td>N</td>\n",
       "      <td>N</td>\n",
       "      <td>N</td>\n",
       "      <td>N</td>\n",
       "      <td>NaN</td>\n",
       "    </tr>\n",
       "    <tr>\n",
       "      <th>freq</th>\n",
       "      <td>NaN</td>\n",
       "      <td>NaN</td>\n",
       "      <td>1</td>\n",
       "      <td>1</td>\n",
       "      <td>NaN</td>\n",
       "      <td>NaN</td>\n",
       "      <td>52</td>\n",
       "      <td>93</td>\n",
       "      <td>96</td>\n",
       "      <td>95</td>\n",
       "      <td>89</td>\n",
       "      <td>90</td>\n",
       "      <td>102</td>\n",
       "      <td>110</td>\n",
       "      <td>NaN</td>\n",
       "    </tr>\n",
       "    <tr>\n",
       "      <th>mean</th>\n",
       "      <td>18.735043</td>\n",
       "      <td>59.000000</td>\n",
       "      <td>NaN</td>\n",
       "      <td>NaN</td>\n",
       "      <td>21.683761</td>\n",
       "      <td>2.572650</td>\n",
       "      <td>NaN</td>\n",
       "      <td>NaN</td>\n",
       "      <td>NaN</td>\n",
       "      <td>NaN</td>\n",
       "      <td>NaN</td>\n",
       "      <td>NaN</td>\n",
       "      <td>NaN</td>\n",
       "      <td>NaN</td>\n",
       "      <td>1.0</td>\n",
       "    </tr>\n",
       "    <tr>\n",
       "      <th>std</th>\n",
       "      <td>10.070778</td>\n",
       "      <td>33.919021</td>\n",
       "      <td>NaN</td>\n",
       "      <td>NaN</td>\n",
       "      <td>26.067766</td>\n",
       "      <td>11.544753</td>\n",
       "      <td>NaN</td>\n",
       "      <td>NaN</td>\n",
       "      <td>NaN</td>\n",
       "      <td>NaN</td>\n",
       "      <td>NaN</td>\n",
       "      <td>NaN</td>\n",
       "      <td>NaN</td>\n",
       "      <td>NaN</td>\n",
       "      <td>0.0</td>\n",
       "    </tr>\n",
       "    <tr>\n",
       "      <th>min</th>\n",
       "      <td>1.000000</td>\n",
       "      <td>1.000000</td>\n",
       "      <td>NaN</td>\n",
       "      <td>NaN</td>\n",
       "      <td>0.000000</td>\n",
       "      <td>0.000000</td>\n",
       "      <td>NaN</td>\n",
       "      <td>NaN</td>\n",
       "      <td>NaN</td>\n",
       "      <td>NaN</td>\n",
       "      <td>NaN</td>\n",
       "      <td>NaN</td>\n",
       "      <td>NaN</td>\n",
       "      <td>NaN</td>\n",
       "      <td>1.0</td>\n",
       "    </tr>\n",
       "    <tr>\n",
       "      <th>25%</th>\n",
       "      <td>10.000000</td>\n",
       "      <td>30.000000</td>\n",
       "      <td>NaN</td>\n",
       "      <td>NaN</td>\n",
       "      <td>0.000000</td>\n",
       "      <td>0.000000</td>\n",
       "      <td>NaN</td>\n",
       "      <td>NaN</td>\n",
       "      <td>NaN</td>\n",
       "      <td>NaN</td>\n",
       "      <td>NaN</td>\n",
       "      <td>NaN</td>\n",
       "      <td>NaN</td>\n",
       "      <td>NaN</td>\n",
       "      <td>1.0</td>\n",
       "    </tr>\n",
       "    <tr>\n",
       "      <th>50%</th>\n",
       "      <td>19.000000</td>\n",
       "      <td>59.000000</td>\n",
       "      <td>NaN</td>\n",
       "      <td>NaN</td>\n",
       "      <td>10.000000</td>\n",
       "      <td>0.000000</td>\n",
       "      <td>NaN</td>\n",
       "      <td>NaN</td>\n",
       "      <td>NaN</td>\n",
       "      <td>NaN</td>\n",
       "      <td>NaN</td>\n",
       "      <td>NaN</td>\n",
       "      <td>NaN</td>\n",
       "      <td>NaN</td>\n",
       "      <td>1.0</td>\n",
       "    </tr>\n",
       "    <tr>\n",
       "      <th>75%</th>\n",
       "      <td>27.000000</td>\n",
       "      <td>88.000000</td>\n",
       "      <td>NaN</td>\n",
       "      <td>NaN</td>\n",
       "      <td>50.000000</td>\n",
       "      <td>0.000000</td>\n",
       "      <td>NaN</td>\n",
       "      <td>NaN</td>\n",
       "      <td>NaN</td>\n",
       "      <td>NaN</td>\n",
       "      <td>NaN</td>\n",
       "      <td>NaN</td>\n",
       "      <td>NaN</td>\n",
       "      <td>NaN</td>\n",
       "      <td>1.0</td>\n",
       "    </tr>\n",
       "    <tr>\n",
       "      <th>max</th>\n",
       "      <td>35.000000</td>\n",
       "      <td>117.000000</td>\n",
       "      <td>NaN</td>\n",
       "      <td>NaN</td>\n",
       "      <td>80.000000</td>\n",
       "      <td>99.000000</td>\n",
       "      <td>NaN</td>\n",
       "      <td>NaN</td>\n",
       "      <td>NaN</td>\n",
       "      <td>NaN</td>\n",
       "      <td>NaN</td>\n",
       "      <td>NaN</td>\n",
       "      <td>NaN</td>\n",
       "      <td>NaN</td>\n",
       "      <td>1.0</td>\n",
       "    </tr>\n",
       "  </tbody>\n",
       "</table>\n",
       "</div>"
      ],
      "text/plain": [
       "           Episode    Pitch no                Brand          Idea  \\\n",
       "count   117.000000  117.000000                  117           117   \n",
       "unique         NaN         NaN                  117           117   \n",
       "top            NaN         NaN  BluePine Industries  Frozen Momos   \n",
       "freq           NaN         NaN                    1             1   \n",
       "mean     18.735043   59.000000                  NaN           NaN   \n",
       "std      10.070778   33.919021                  NaN           NaN   \n",
       "min       1.000000    1.000000                  NaN           NaN   \n",
       "25%      10.000000   30.000000                  NaN           NaN   \n",
       "50%      19.000000   59.000000                  NaN           NaN   \n",
       "75%      27.000000   88.000000                  NaN           NaN   \n",
       "max      35.000000  117.000000                  NaN           NaN   \n",
       "\n",
       "        Investment Amount (In Lakhs INR)         Debt Equity Anupam Ashneer  \\\n",
       "count                          117.000000  117.000000    117    117     117   \n",
       "unique                                NaN         NaN     39      2       2   \n",
       "top                                   NaN         NaN      0      N       N   \n",
       "freq                                  NaN         NaN     52     93      96   \n",
       "mean                            21.683761    2.572650    NaN    NaN     NaN   \n",
       "std                             26.067766   11.544753    NaN    NaN     NaN   \n",
       "min                              0.000000    0.000000    NaN    NaN     NaN   \n",
       "25%                              0.000000    0.000000    NaN    NaN     NaN   \n",
       "50%                             10.000000    0.000000    NaN    NaN     NaN   \n",
       "75%                             50.000000    0.000000    NaN    NaN     NaN   \n",
       "max                             80.000000   99.000000    NaN    NaN     NaN   \n",
       "\n",
       "       Namita Aman Peyush Vineeta Ghazal  Season  \n",
       "count     117  117    117     117    117   117.0  \n",
       "unique      2    2      2       2      2     NaN  \n",
       "top         N    N      N       N      N     NaN  \n",
       "freq       95   89     90     102    110     NaN  \n",
       "mean      NaN  NaN    NaN     NaN    NaN     1.0  \n",
       "std       NaN  NaN    NaN     NaN    NaN     0.0  \n",
       "min       NaN  NaN    NaN     NaN    NaN     1.0  \n",
       "25%       NaN  NaN    NaN     NaN    NaN     1.0  \n",
       "50%       NaN  NaN    NaN     NaN    NaN     1.0  \n",
       "75%       NaN  NaN    NaN     NaN    NaN     1.0  \n",
       "max       NaN  NaN    NaN     NaN    NaN     1.0  "
      ]
     },
     "execution_count": 5,
     "metadata": {},
     "output_type": "execute_result"
    }
   ],
   "source": [
    "df.describe(include=\"all\")"
   ]
  },
  {
   "cell_type": "code",
   "execution_count": 6,
   "id": "814b44be",
   "metadata": {
    "execution": {
     "iopub.execute_input": "2022-03-23T10:05:35.596752Z",
     "iopub.status.busy": "2022-03-23T10:05:35.596011Z",
     "iopub.status.idle": "2022-03-23T10:05:35.607208Z",
     "shell.execute_reply": "2022-03-23T10:05:35.607790Z",
     "shell.execute_reply.started": "2022-03-23T10:04:29.271360Z"
    },
    "papermill": {
     "duration": 0.047824,
     "end_time": "2022-03-23T10:05:35.607956",
     "exception": false,
     "start_time": "2022-03-23T10:05:35.560132",
     "status": "completed"
    },
    "tags": []
   },
   "outputs": [
    {
     "data": {
      "text/plain": [
       "<bound method NDFrame.describe of      Episode  Pitch no                Brand  \\\n",
       "0          1         1  BluePine Industries   \n",
       "1          1         2        Booz scooters   \n",
       "2          1         3  Heart up my Sleeves   \n",
       "3          2         4           Tagz Foods   \n",
       "4          2         5       Head and Heart   \n",
       "..       ...       ...                  ...   \n",
       "112       34       113        Green Protein   \n",
       "113       34       114              On2Cook   \n",
       "114       35       115        Jain Shikanji   \n",
       "115       35       116                Woloo   \n",
       "116       35       117         Elcare India   \n",
       "\n",
       "                                              Idea  \\\n",
       "0                                     Frozen Momos   \n",
       "1    Renting e-bike for mobility in private spaces   \n",
       "2                               Detachable Sleeves   \n",
       "3                             Healthy Potato Chips   \n",
       "4                         Brain Development Course   \n",
       "..                                             ...   \n",
       "112                            Plant-Based Protein   \n",
       "113                         Fastest Cooking Device   \n",
       "114                                       Lemonade   \n",
       "115                                Washroom Finder   \n",
       "116                           Carenting for Elders   \n",
       "\n",
       "     Investment Amount (In Lakhs INR)   Debt  Equity Anupam Ashneer Namita  \\\n",
       "0                                   75     0     18%      N       Y      N   \n",
       "1                                   40     0     50%      N       Y      N   \n",
       "2                                   25     0     30%      Y       N      N   \n",
       "3                                   70     0   2.75%      N       Y      N   \n",
       "4                                    0     0       0      N       N      N   \n",
       "..                                 ...   ...     ...    ...     ...    ...   \n",
       "112                                  0     0       0      N       N      N   \n",
       "113                                  0     0       0      N       N      N   \n",
       "114                                 40     0  30.00%      Y       Y      N   \n",
       "115                                  0     0       0      N       N      N   \n",
       "116                                  0     0       0      N       N      N   \n",
       "\n",
       "    Aman Peyush Vineeta Ghazal  Season  \n",
       "0      Y      N       Y      N       1  \n",
       "1      N      N       Y      N       1  \n",
       "2      N      N       Y      N       1  \n",
       "3      N      N       N      N       1  \n",
       "4      N      N       N      N       1  \n",
       "..   ...    ...     ...    ...     ...  \n",
       "112    N      N       N      N       1  \n",
       "113    N      N       N      N       1  \n",
       "114    Y      N       Y      N       1  \n",
       "115    N      N       N      N       1  \n",
       "116    N      N       N      N       1  \n",
       "\n",
       "[117 rows x 15 columns]>"
      ]
     },
     "execution_count": 6,
     "metadata": {},
     "output_type": "execute_result"
    }
   ],
   "source": [
    "set_option('precision',2)\n",
    "df.describe"
   ]
  },
  {
   "cell_type": "markdown",
   "id": "33665708",
   "metadata": {
    "papermill": {
     "duration": 0.029118,
     "end_time": "2022-03-23T10:05:35.666577",
     "exception": false,
     "start_time": "2022-03-23T10:05:35.637459",
     "status": "completed"
    },
    "tags": []
   },
   "source": [
    " **Visualisation through *Scatter Plot***"
   ]
  },
  {
   "cell_type": "code",
   "execution_count": 7,
   "id": "9b9579af",
   "metadata": {
    "execution": {
     "iopub.execute_input": "2022-03-23T10:05:35.730539Z",
     "iopub.status.busy": "2022-03-23T10:05:35.729861Z",
     "iopub.status.idle": "2022-03-23T10:05:36.242082Z",
     "shell.execute_reply": "2022-03-23T10:05:36.241414Z",
     "shell.execute_reply.started": "2022-03-23T10:04:29.290409Z"
    },
    "papermill": {
     "duration": 0.544644,
     "end_time": "2022-03-23T10:05:36.242242",
     "exception": false,
     "start_time": "2022-03-23T10:05:35.697598",
     "status": "completed"
    },
    "tags": []
   },
   "outputs": [
    {
     "data": {
      "image/png": "[encoded data removed]",
      "text/plain": [
       "<Figure size 432x288 with 1 Axes>"
      ]
     },
     "metadata": {
      "needs_background": "light"
     },
     "output_type": "display_data"
    }
   ],
   "source": [
    "fig=df[df.Anupam==\"Y\"].plot(kind=\"scatter\",x='Investment Amount (In Lakhs INR) ',y=\"Debt\",color=\"red\",label=\"Anupam\")\n",
    "df[df.Ashneer==\"Y\"].plot(kind=\"scatter\",x='Investment Amount (In Lakhs INR) ',y=\"Debt\",color=\"blue\",label=\"Ashneer\",ax=fig)\n",
    "df[df.Aman==\"Y\"].plot(kind=\"scatter\",x='Investment Amount (In Lakhs INR) ',y=\"Debt\",color=\"green\",label=\"Aman\",ax=fig)\n",
    "df[df.Namita==\"Y\"].plot(kind=\"scatter\",x='Investment Amount (In Lakhs INR) ',y=\"Debt\",color=\"pink\",label=\"Namita\",ax=fig)\n",
    "df[df.Peyush==\"Y\"].plot(kind=\"scatter\",x='Investment Amount (In Lakhs INR) ',y=\"Debt\",color=\"violet\",label=\"Peyush\",ax=fig)\n",
    "df[df.Vineeta==\"Y\"].plot(kind=\"scatter\",x='Investment Amount (In Lakhs INR) ',y=\"Debt\",color=\"black\",label=\"Vineeta\",ax=fig)\n",
    "df[df.Ghazal==\"Y\"].plot(kind=\"scatter\",x='Investment Amount (In Lakhs INR) ',y=\"Debt\",color=\"yellow\",label=\"Ghazal\",ax=fig)\n",
    "fig.set_xlabel(\"AMT_Invested\")\n",
    "fig.set_ylabel(\"Debt_given\")\n",
    "fig.set_title(\"INVEST VS DEBT\")\n",
    "plt.gcf()\n",
    "\n",
    "plt.show()"
   ]
  },
  {
   "cell_type": "code",
   "execution_count": 8,
   "id": "34538c24",
   "metadata": {
    "execution": {
     "iopub.execute_input": "2022-03-23T10:05:36.322527Z",
     "iopub.status.busy": "2022-03-23T10:05:36.321855Z",
     "iopub.status.idle": "2022-03-23T10:05:36.325970Z",
     "shell.execute_reply": "2022-03-23T10:05:36.325458Z",
     "shell.execute_reply.started": "2022-03-23T10:04:29.772688Z"
    },
    "papermill": {
     "duration": 0.05323,
     "end_time": "2022-03-23T10:05:36.326128",
     "exception": false,
     "start_time": "2022-03-23T10:05:36.272898",
     "status": "completed"
    },
    "tags": []
   },
   "outputs": [
    {
     "data": {
      "text/html": [
       "<div>\n",
       "<style scoped>\n",
       "    .dataframe tbody tr th:only-of-type {\n",
       "        vertical-align: middle;\n",
       "    }\n",
       "\n",
       "    .dataframe tbody tr th {\n",
       "        vertical-align: top;\n",
       "    }\n",
       "\n",
       "    .dataframe thead th {\n",
       "        text-align: right;\n",
       "    }\n",
       "</style>\n",
       "<table border=\"1\" class=\"dataframe\">\n",
       "  <thead>\n",
       "    <tr style=\"text-align: right;\">\n",
       "      <th></th>\n",
       "      <th>Episode</th>\n",
       "      <th>Pitch no</th>\n",
       "      <th>Brand</th>\n",
       "      <th>Idea</th>\n",
       "      <th>Investment Amount (In Lakhs INR)</th>\n",
       "      <th>Debt</th>\n",
       "      <th>Equity</th>\n",
       "      <th>Anupam</th>\n",
       "      <th>Ashneer</th>\n",
       "      <th>Namita</th>\n",
       "      <th>Aman</th>\n",
       "      <th>Peyush</th>\n",
       "      <th>Vineeta</th>\n",
       "      <th>Ghazal</th>\n",
       "      <th>Season</th>\n",
       "    </tr>\n",
       "  </thead>\n",
       "  <tbody>\n",
       "    <tr>\n",
       "      <th>0</th>\n",
       "      <td>1</td>\n",
       "      <td>1</td>\n",
       "      <td>BluePine Industries</td>\n",
       "      <td>Frozen Momos</td>\n",
       "      <td>75</td>\n",
       "      <td>0</td>\n",
       "      <td>18%</td>\n",
       "      <td>N</td>\n",
       "      <td>Y</td>\n",
       "      <td>N</td>\n",
       "      <td>Y</td>\n",
       "      <td>N</td>\n",
       "      <td>Y</td>\n",
       "      <td>N</td>\n",
       "      <td>1</td>\n",
       "    </tr>\n",
       "    <tr>\n",
       "      <th>1</th>\n",
       "      <td>1</td>\n",
       "      <td>2</td>\n",
       "      <td>Booz scooters</td>\n",
       "      <td>Renting e-bike for mobility in private spaces</td>\n",
       "      <td>40</td>\n",
       "      <td>0</td>\n",
       "      <td>50%</td>\n",
       "      <td>N</td>\n",
       "      <td>Y</td>\n",
       "      <td>N</td>\n",
       "      <td>N</td>\n",
       "      <td>N</td>\n",
       "      <td>Y</td>\n",
       "      <td>N</td>\n",
       "      <td>1</td>\n",
       "    </tr>\n",
       "    <tr>\n",
       "      <th>2</th>\n",
       "      <td>1</td>\n",
       "      <td>3</td>\n",
       "      <td>Heart up my Sleeves</td>\n",
       "      <td>Detachable Sleeves</td>\n",
       "      <td>25</td>\n",
       "      <td>0</td>\n",
       "      <td>30%</td>\n",
       "      <td>Y</td>\n",
       "      <td>N</td>\n",
       "      <td>N</td>\n",
       "      <td>N</td>\n",
       "      <td>N</td>\n",
       "      <td>Y</td>\n",
       "      <td>N</td>\n",
       "      <td>1</td>\n",
       "    </tr>\n",
       "    <tr>\n",
       "      <th>8</th>\n",
       "      <td>3</td>\n",
       "      <td>9</td>\n",
       "      <td>NOCD</td>\n",
       "      <td>Energy Drink</td>\n",
       "      <td>20</td>\n",
       "      <td>30</td>\n",
       "      <td>15%</td>\n",
       "      <td>N</td>\n",
       "      <td>N</td>\n",
       "      <td>N</td>\n",
       "      <td>N</td>\n",
       "      <td>N</td>\n",
       "      <td>Y</td>\n",
       "      <td>N</td>\n",
       "      <td>1</td>\n",
       "    </tr>\n",
       "    <tr>\n",
       "      <th>9</th>\n",
       "      <td>4</td>\n",
       "      <td>10</td>\n",
       "      <td>Cosiq</td>\n",
       "      <td>Intelligent Skincare</td>\n",
       "      <td>50</td>\n",
       "      <td>0</td>\n",
       "      <td>25%</td>\n",
       "      <td>Y</td>\n",
       "      <td>N</td>\n",
       "      <td>N</td>\n",
       "      <td>N</td>\n",
       "      <td>N</td>\n",
       "      <td>Y</td>\n",
       "      <td>N</td>\n",
       "      <td>1</td>\n",
       "    </tr>\n",
       "  </tbody>\n",
       "</table>\n",
       "</div>"
      ],
      "text/plain": [
       "   Episode  Pitch no                Brand  \\\n",
       "0        1         1  BluePine Industries   \n",
       "1        1         2        Booz scooters   \n",
       "2        1         3  Heart up my Sleeves   \n",
       "8        3         9                 NOCD   \n",
       "9        4        10                Cosiq   \n",
       "\n",
       "                                            Idea  \\\n",
       "0                                   Frozen Momos   \n",
       "1  Renting e-bike for mobility in private spaces   \n",
       "2                             Detachable Sleeves   \n",
       "8                                   Energy Drink   \n",
       "9                           Intelligent Skincare   \n",
       "\n",
       "   Investment Amount (In Lakhs INR)   Debt Equity Anupam Ashneer Namita Aman  \\\n",
       "0                                 75     0    18%      N       Y      N    Y   \n",
       "1                                 40     0    50%      N       Y      N    N   \n",
       "2                                 25     0    30%      Y       N      N    N   \n",
       "8                                 20    30    15%      N       N      N    N   \n",
       "9                                 50     0    25%      Y       N      N    N   \n",
       "\n",
       "  Peyush Vineeta Ghazal  Season  \n",
       "0      N       Y      N       1  \n",
       "1      N       Y      N       1  \n",
       "2      N       Y      N       1  \n",
       "8      N       Y      N       1  \n",
       "9      N       Y      N       1  "
      ]
     },
     "execution_count": 8,
     "metadata": {},
     "output_type": "execute_result"
    }
   ],
   "source": [
    "Vineeta=df[df.Vineeta=='Y']\n",
    "Vineeta.head()"
   ]
  },
  {
   "cell_type": "code",
   "execution_count": 9,
   "id": "369f0708",
   "metadata": {
    "execution": {
     "iopub.execute_input": "2022-03-23T10:05:36.403251Z",
     "iopub.status.busy": "2022-03-23T10:05:36.401632Z",
     "iopub.status.idle": "2022-03-23T10:05:36.631987Z",
     "shell.execute_reply": "2022-03-23T10:05:36.631348Z",
     "shell.execute_reply.started": "2022-03-23T10:04:29.794303Z"
    },
    "papermill": {
     "duration": 0.273212,
     "end_time": "2022-03-23T10:05:36.632123",
     "exception": false,
     "start_time": "2022-03-23T10:05:36.358911",
     "status": "completed"
    },
    "tags": []
   },
   "outputs": [
    {
     "data": {
      "text/plain": [
       "<AxesSubplot:title={'center':'Investment by Vineeta'}, ylabel='Density'>"
      ]
     },
     "execution_count": 9,
     "metadata": {},
     "output_type": "execute_result"
    },
    {
     "data": {
      "image/png": "[encoded data removed]",
      "text/plain": [
       "<Figure size 432x288 with 1 Axes>"
      ]
     },
     "metadata": {
      "needs_background": "light"
     },
     "output_type": "display_data"
    }
   ],
   "source": [
    "Vineeta=df[df.Vineeta==\"Y\"]\n",
    "Vineeta['Investment Amount (In Lakhs INR) '].value_counts().plot(kind=\"density\",title=\"Investment by Vineeta\")\n"
   ]
  },
  {
   "cell_type": "code",
   "execution_count": 10,
   "id": "c699de47",
   "metadata": {
    "execution": {
     "iopub.execute_input": "2022-03-23T10:05:36.733263Z",
     "iopub.status.busy": "2022-03-23T10:05:36.732063Z",
     "iopub.status.idle": "2022-03-23T10:05:36.931130Z",
     "shell.execute_reply": "2022-03-23T10:05:36.931616Z",
     "shell.execute_reply.started": "2022-03-23T10:04:30.055200Z"
    },
    "papermill": {
     "duration": 0.266863,
     "end_time": "2022-03-23T10:05:36.931795",
     "exception": false,
     "start_time": "2022-03-23T10:05:36.664932",
     "status": "completed"
    },
    "tags": []
   },
   "outputs": [
    {
     "data": {
      "text/plain": [
       "<AxesSubplot:title={'center':'Investment by Anupam'}, ylabel='Density'>"
      ]
     },
     "execution_count": 10,
     "metadata": {},
     "output_type": "execute_result"
    },
    {
     "data": {
      "image/png": "[encoded data removed]",
      "text/plain": [
       "<Figure size 432x288 with 1 Axes>"
      ]
     },
     "metadata": {
      "needs_background": "light"
     },
     "output_type": "display_data"
    }
   ],
   "source": [
    "Anupam=df[df.Anupam==\"Y\"]\n",
    "Anupam['Investment Amount (In Lakhs INR) '].value_counts().plot(kind=\"density\",title=\"Investment by Anupam\")"
   ]
  },
  {
   "cell_type": "code",
   "execution_count": 11,
   "id": "405f1fe5",
   "metadata": {
    "execution": {
     "iopub.execute_input": "2022-03-23T10:05:37.003742Z",
     "iopub.status.busy": "2022-03-23T10:05:37.003052Z",
     "iopub.status.idle": "2022-03-23T10:05:37.205217Z",
     "shell.execute_reply": "2022-03-23T10:05:37.204390Z",
     "shell.execute_reply.started": "2022-03-23T10:04:30.306983Z"
    },
    "papermill": {
     "duration": 0.239429,
     "end_time": "2022-03-23T10:05:37.205365",
     "exception": false,
     "start_time": "2022-03-23T10:05:36.965936",
     "status": "completed"
    },
    "tags": []
   },
   "outputs": [
    {
     "data": {
      "text/plain": [
       "<AxesSubplot:title={'center':'Investment by Ashneer'}, ylabel='Density'>"
      ]
     },
     "execution_count": 11,
     "metadata": {},
     "output_type": "execute_result"
    },
    {
     "data": {
      "image/png": "[encoded data removed]",
      "text/plain": [
       "<Figure size 432x288 with 1 Axes>"
      ]
     },
     "metadata": {
      "needs_background": "light"
     },
     "output_type": "display_data"
    }
   ],
   "source": [
    "Ashneer=df[df.Ashneer==\"Y\"]\n",
    "Ashneer['Investment Amount (In Lakhs INR) '].value_counts().plot(kind=\"density\",title=\"Investment by Ashneer\")"
   ]
  },
  {
   "cell_type": "code",
   "execution_count": 12,
   "id": "87c2a63b",
   "metadata": {
    "execution": {
     "iopub.execute_input": "2022-03-23T10:05:37.281120Z",
     "iopub.status.busy": "2022-03-23T10:05:37.280447Z",
     "iopub.status.idle": "2022-03-23T10:05:37.485492Z",
     "shell.execute_reply": "2022-03-23T10:05:37.484945Z",
     "shell.execute_reply.started": "2022-03-23T10:04:30.523403Z"
    },
    "papermill": {
     "duration": 0.244696,
     "end_time": "2022-03-23T10:05:37.485650",
     "exception": false,
     "start_time": "2022-03-23T10:05:37.240954",
     "status": "completed"
    },
    "tags": []
   },
   "outputs": [
    {
     "data": {
      "text/plain": [
       "<AxesSubplot:title={'center':'Investment by Namita'}, ylabel='Density'>"
      ]
     },
     "execution_count": 12,
     "metadata": {},
     "output_type": "execute_result"
    },
    {
     "data": {
      "image/png": "[encoded data removed]",
      "text/plain": [
       "<Figure size 432x288 with 1 Axes>"
      ]
     },
     "metadata": {
      "needs_background": "light"
     },
     "output_type": "display_data"
    }
   ],
   "source": [
    "Namita=df[df.Namita==\"Y\"]\n",
    "Namita['Investment Amount (In Lakhs INR) '].value_counts().plot(kind=\"density\",title=\"Investment by Namita\")"
   ]
  },
  {
   "cell_type": "code",
   "execution_count": 13,
   "id": "34e88d26",
   "metadata": {
    "execution": {
     "iopub.execute_input": "2022-03-23T10:05:37.582453Z",
     "iopub.status.busy": "2022-03-23T10:05:37.581805Z",
     "iopub.status.idle": "2022-03-23T10:05:37.792576Z",
     "shell.execute_reply": "2022-03-23T10:05:37.791991Z",
     "shell.execute_reply.started": "2022-03-23T10:04:30.738248Z"
    },
    "papermill": {
     "duration": 0.270025,
     "end_time": "2022-03-23T10:05:37.792718",
     "exception": false,
     "start_time": "2022-03-23T10:05:37.522693",
     "status": "completed"
    },
    "tags": []
   },
   "outputs": [
    {
     "data": {
      "text/plain": [
       "<AxesSubplot:title={'center':'Investment by Peyush'}, ylabel='Density'>"
      ]
     },
     "execution_count": 13,
     "metadata": {},
     "output_type": "execute_result"
    },
    {
     "data": {
      "image/png": "[encoded data removed]",
      "text/plain": [
       "<Figure size 432x288 with 1 Axes>"
      ]
     },
     "metadata": {
      "needs_background": "light"
     },
     "output_type": "display_data"
    }
   ],
   "source": [
    "Peyush=df[df.Peyush==\"Y\"]\n",
    "Peyush['Investment Amount (In Lakhs INR) '].value_counts().plot(kind=\"density\",title=\"Investment by Peyush\")"
   ]
  },
  {
   "cell_type": "code",
   "execution_count": 14,
   "id": "aca58c4b",
   "metadata": {
    "execution": {
     "iopub.execute_input": "2022-03-23T10:05:37.893599Z",
     "iopub.status.busy": "2022-03-23T10:05:37.892569Z",
     "iopub.status.idle": "2022-03-23T10:05:38.107842Z",
     "shell.execute_reply": "2022-03-23T10:05:38.107258Z",
     "shell.execute_reply.started": "2022-03-23T10:04:30.978309Z"
    },
    "papermill": {
     "duration": 0.276637,
     "end_time": "2022-03-23T10:05:38.107982",
     "exception": false,
     "start_time": "2022-03-23T10:05:37.831345",
     "status": "completed"
    },
    "tags": []
   },
   "outputs": [
    {
     "data": {
      "text/plain": [
       "<AxesSubplot:title={'center':'Investment by Aman'}, ylabel='Density'>"
      ]
     },
     "execution_count": 14,
     "metadata": {},
     "output_type": "execute_result"
    },
    {
     "data": {
      "image/png": "[encoded data removed]",
      "text/plain": [
       "<Figure size 432x288 with 1 Axes>"
      ]
     },
     "metadata": {
      "needs_background": "light"
     },
     "output_type": "display_data"
    }
   ],
   "source": [
    "Aman=df[df.Aman==\"Y\"]\n",
    "Aman['Investment Amount (In Lakhs INR) '].value_counts().plot(kind=\"density\",title=\"Investment by Aman\")"
   ]
  },
  {
   "cell_type": "code",
   "execution_count": 15,
   "id": "48c889d5",
   "metadata": {
    "execution": {
     "iopub.execute_input": "2022-03-23T10:05:38.197620Z",
     "iopub.status.busy": "2022-03-23T10:05:38.196579Z",
     "iopub.status.idle": "2022-03-23T10:05:38.422968Z",
     "shell.execute_reply": "2022-03-23T10:05:38.422300Z",
     "shell.execute_reply.started": "2022-03-23T10:04:31.180344Z"
    },
    "papermill": {
     "duration": 0.273701,
     "end_time": "2022-03-23T10:05:38.423127",
     "exception": false,
     "start_time": "2022-03-23T10:05:38.149426",
     "status": "completed"
    },
    "tags": []
   },
   "outputs": [
    {
     "data": {
      "text/plain": [
       "<AxesSubplot:title={'center':'Investment by Vineeta'}>"
      ]
     },
     "execution_count": 15,
     "metadata": {},
     "output_type": "execute_result"
    },
    {
     "data": {
      "image/png": "[encoded data removed]",
      "text/plain": [
       "<Figure size 432x288 with 1 Axes>"
      ]
     },
     "metadata": {
      "needs_background": "light"
     },
     "output_type": "display_data"
    }
   ],
   "source": [
    "Vineeta=df[df.Vineeta==\"Y\"]\n",
    "Vineeta['Investment Amount (In Lakhs INR) '].value_counts().plot(kind=\"bar\",title=\"Investment by Vineeta\",color=\"grey\")\n"
   ]
  },
  {
   "cell_type": "markdown",
   "id": "3a8b3fd3",
   "metadata": {
    "papermill": {
     "duration": 0.041487,
     "end_time": "2022-03-23T10:05:38.506357",
     "exception": false,
     "start_time": "2022-03-23T10:05:38.464870",
     "status": "completed"
    },
    "tags": []
   },
   "source": [
    "**Below Graphs Showing investment Amt By Each Shark**"
   ]
  },
  {
   "cell_type": "code",
   "execution_count": 16,
   "id": "e0315bd5",
   "metadata": {
    "execution": {
     "iopub.execute_input": "2022-03-23T10:05:38.627013Z",
     "iopub.status.busy": "2022-03-23T10:05:38.613612Z",
     "iopub.status.idle": "2022-03-23T10:05:38.826961Z",
     "shell.execute_reply": "2022-03-23T10:05:38.826431Z",
     "shell.execute_reply.started": "2022-03-23T10:04:31.372637Z"
    },
    "papermill": {
     "duration": 0.279596,
     "end_time": "2022-03-23T10:05:38.827101",
     "exception": false,
     "start_time": "2022-03-23T10:05:38.547505",
     "status": "completed"
    },
    "tags": []
   },
   "outputs": [
    {
     "data": {
      "text/plain": [
       "<AxesSubplot:title={'center':'Investment by Aman'}>"
      ]
     },
     "execution_count": 16,
     "metadata": {},
     "output_type": "execute_result"
    },
    {
     "data": {
      "image/png": "[encoded data removed]",
      "text/plain": [
       "<Figure size 432x288 with 1 Axes>"
      ]
     },
     "metadata": {
      "needs_background": "light"
     },
     "output_type": "display_data"
    }
   ],
   "source": [
    "Aman=df[df.Aman==\"Y\"]\n",
    "Aman['Investment Amount (In Lakhs INR) '].value_counts().plot(kind=\"bar\",title=\"Investment by Aman\",color=\"red\")"
   ]
  },
  {
   "cell_type": "code",
   "execution_count": 17,
   "id": "97fce849",
   "metadata": {
    "execution": {
     "iopub.execute_input": "2022-03-23T10:05:38.920738Z",
     "iopub.status.busy": "2022-03-23T10:05:38.920078Z",
     "iopub.status.idle": "2022-03-23T10:05:39.271829Z",
     "shell.execute_reply": "2022-03-23T10:05:39.272364Z",
     "shell.execute_reply.started": "2022-03-23T10:04:31.576335Z"
    },
    "papermill": {
     "duration": 0.402526,
     "end_time": "2022-03-23T10:05:39.272537",
     "exception": false,
     "start_time": "2022-03-23T10:05:38.870011",
     "status": "completed"
    },
    "tags": []
   },
   "outputs": [
    {
     "data": {
      "text/plain": [
       "<AxesSubplot:title={'center':'Investment by Namita'}>"
      ]
     },
     "execution_count": 17,
     "metadata": {},
     "output_type": "execute_result"
    },
    {
     "data": {
      "image/png": "[encoded data removed]",
      "text/plain": [
       "<Figure size 432x288 with 1 Axes>"
      ]
     },
     "metadata": {
      "needs_background": "light"
     },
     "output_type": "display_data"
    }
   ],
   "source": [
    "Namita=df[df.Namita==\"Y\"]\n",
    "Namita['Investment Amount (In Lakhs INR) '].value_counts().plot(kind=\"bar\",title=\"Investment by Namita\",color=\"pink\")"
   ]
  },
  {
   "cell_type": "code",
   "execution_count": 18,
   "id": "06b95090",
   "metadata": {
    "execution": {
     "iopub.execute_input": "2022-03-23T10:05:39.362217Z",
     "iopub.status.busy": "2022-03-23T10:05:39.361554Z",
     "iopub.status.idle": "2022-03-23T10:05:39.589082Z",
     "shell.execute_reply": "2022-03-23T10:05:39.588449Z",
     "shell.execute_reply.started": "2022-03-23T10:04:31.898615Z"
    },
    "papermill": {
     "duration": 0.273411,
     "end_time": "2022-03-23T10:05:39.589236",
     "exception": false,
     "start_time": "2022-03-23T10:05:39.315825",
     "status": "completed"
    },
    "tags": []
   },
   "outputs": [
    {
     "data": {
      "text/plain": [
       "<AxesSubplot:title={'center':'Investment by Ashneer'}>"
      ]
     },
     "execution_count": 18,
     "metadata": {},
     "output_type": "execute_result"
    },
    {
     "data": {
      "image/png": "[encoded data removed]",
      "text/plain": [
       "<Figure size 432x288 with 1 Axes>"
      ]
     },
     "metadata": {
      "needs_background": "light"
     },
     "output_type": "display_data"
    }
   ],
   "source": [
    "Ashneer=df[df.Ashneer==\"Y\"]\n",
    "Ashneer['Investment Amount (In Lakhs INR) '].value_counts().plot(kind=\"bar\",title=\"Investment by Ashneer\",color=\"orange\")"
   ]
  },
  {
   "cell_type": "code",
   "execution_count": 19,
   "id": "44c9b91d",
   "metadata": {
    "execution": {
     "iopub.execute_input": "2022-03-23T10:05:39.702134Z",
     "iopub.status.busy": "2022-03-23T10:05:39.697601Z",
     "iopub.status.idle": "2022-03-23T10:05:39.913119Z",
     "shell.execute_reply": "2022-03-23T10:05:39.913634Z",
     "shell.execute_reply.started": "2022-03-23T10:04:32.135495Z"
    },
    "papermill": {
     "duration": 0.279114,
     "end_time": "2022-03-23T10:05:39.913801",
     "exception": false,
     "start_time": "2022-03-23T10:05:39.634687",
     "status": "completed"
    },
    "tags": []
   },
   "outputs": [
    {
     "data": {
      "text/plain": [
       "<AxesSubplot:title={'center':'Investment by Anupam'}>"
      ]
     },
     "execution_count": 19,
     "metadata": {},
     "output_type": "execute_result"
    },
    {
     "data": {
      "image/png": "[encoded data removed]",
      "text/plain": [
       "<Figure size 432x288 with 1 Axes>"
      ]
     },
     "metadata": {
      "needs_background": "light"
     },
     "output_type": "display_data"
    }
   ],
   "source": [
    "Anupam=df[df.Anupam==\"Y\"]\n",
    "Anupam['Investment Amount (In Lakhs INR) '].value_counts().plot(kind=\"bar\",title=\"Investment by Anupam\",color=\"green\")"
   ]
  },
  {
   "cell_type": "code",
   "execution_count": 20,
   "id": "c9bf1441",
   "metadata": {
    "execution": {
     "iopub.execute_input": "2022-03-23T10:05:40.009261Z",
     "iopub.status.busy": "2022-03-23T10:05:40.008522Z",
     "iopub.status.idle": "2022-03-23T10:05:40.222703Z",
     "shell.execute_reply": "2022-03-23T10:05:40.223269Z",
     "shell.execute_reply.started": "2022-03-23T10:04:32.376526Z"
    },
    "papermill": {
     "duration": 0.262962,
     "end_time": "2022-03-23T10:05:40.223444",
     "exception": false,
     "start_time": "2022-03-23T10:05:39.960482",
     "status": "completed"
    },
    "tags": []
   },
   "outputs": [
    {
     "data": {
      "text/plain": [
       "<AxesSubplot:title={'center':'Investment by peyush'}>"
      ]
     },
     "execution_count": 20,
     "metadata": {},
     "output_type": "execute_result"
    },
    {
     "data": {
      "image/png": "[encoded data removed]",
      "text/plain": [
       "<Figure size 432x288 with 1 Axes>"
      ]
     },
     "metadata": {
      "needs_background": "light"
     },
     "output_type": "display_data"
    }
   ],
   "source": [
    "Peyush=df[df.Peyush==\"Y\"]\n",
    "Peyush['Investment Amount (In Lakhs INR) '].value_counts().plot(kind=\"bar\",title=\"Investment by peyush\",color=\"yellow\")"
   ]
  },
  {
   "cell_type": "code",
   "execution_count": 21,
   "id": "046a1373",
   "metadata": {
    "execution": {
     "iopub.execute_input": "2022-03-23T10:05:40.320163Z",
     "iopub.status.busy": "2022-03-23T10:05:40.319477Z",
     "iopub.status.idle": "2022-03-23T10:05:42.552312Z",
     "shell.execute_reply": "2022-03-23T10:05:42.551614Z",
     "shell.execute_reply.started": "2022-03-23T10:04:32.608392Z"
    },
    "papermill": {
     "duration": 2.282138,
     "end_time": "2022-03-23T10:05:42.552460",
     "exception": false,
     "start_time": "2022-03-23T10:05:40.270322",
     "status": "completed"
    },
    "tags": []
   },
   "outputs": [],
   "source": [
    "import plotly.express as px\n",
    "import plotly.graph_objects as go\n",
    "import plotly.io as pio\n",
    "import plotly.express as px\n",
    "\n",
    "pio.templates.default = \"plotly_dark\""
   ]
  },
  {
   "cell_type": "markdown",
   "id": "baf585f7",
   "metadata": {
    "papermill": {
     "duration": 0.046715,
     "end_time": "2022-03-23T10:05:42.645842",
     "exception": false,
     "start_time": "2022-03-23T10:05:42.599127",
     "status": "completed"
    },
    "tags": []
   },
   "source": [
    "**Bar Graph showing which brand got the Highest Investemnt**"
   ]
  },
  {
   "cell_type": "code",
   "execution_count": 22,
   "id": "0955c5d9",
   "metadata": {
    "execution": {
     "iopub.execute_input": "2022-03-23T10:05:42.746554Z",
     "iopub.status.busy": "2022-03-23T10:05:42.745523Z",
     "iopub.status.idle": "2022-03-23T10:05:43.224937Z",
     "shell.execute_reply": "2022-03-23T10:05:43.225479Z",
     "shell.execute_reply.started": "2022-03-23T10:04:35.035019Z"
    },
    "papermill": {
     "duration": 0.533513,
     "end_time": "2022-03-23T10:05:43.225654",
     "exception": false,
     "start_time": "2022-03-23T10:05:42.692141",
     "status": "completed"
    },
    "tags": []
   },
   "outputs": [
    {
     "data": {
      "text/html": [
       "        <script type=\"text/javascript\">\n",
       "        window.PlotlyConfig = {MathJaxConfig: 'local'};\n",
       "        if (window.MathJax) {MathJax.Hub.Config({SVG: {font: \"STIX-Web\"}});}\n",
       "        if (typeof require !== 'undefined') {\n",
       "        require.undef(\"plotly\");\n",
       "        requirejs.config({\n",
       "            paths: {\n",
       "                'plotly': ['https://cdn.plot.ly/plotly-2.8.3.min']\n",
       "            }\n",
       "        });\n",
       "        require(['plotly'], function(Plotly) {\n",
       "            window._Plotly = Plotly;\n",
       "        });\n",
       "        }\n",
       "        </script>\n",
       "        "
      ]
     },
     "metadata": {},
     "output_type": "display_data"
    },
    {
     "data": {
      "text/html": [
       "<div>                            <div id=\"091bdb35-4339-4253-81db-fabc338bd2b9\" class=\"plotly-graph-div\" style=\"height:525px; width:100%;\"></div>            <script type=\"text/javascript\">                require([\"plotly\"], function(Plotly) {                    window.PLOTLYENV=window.PLOTLYENV || {};                                    if (document.getElementById(\"091bdb35-4339-4253-81db-fabc338bd2b9\")) {                    Plotly.newPlot(                        \"091bdb35-4339-4253-81db-fabc338bd2b9\",                        [{\"alignmentgroup\":\"True\",\"hovertemplate\":\"Brand=%{x}<br>Investment Amount (In Lakhs INR) =%{y}<extra></extra>\",\"legendgroup\":\"Kabaddi Adda\",\"marker\":{\"color\":\"#636efa\",\"pattern\":{\"shape\":\"\"}},\"name\":\"Kabaddi Adda\",\"offsetgroup\":\"Kabaddi Adda\",\"orientation\":\"v\",\"showlegend\":true,\"textposition\":\"auto\",\"x\":[\"Kabaddi Adda\"],\"xaxis\":\"x\",\"y\":[80],\"yaxis\":\"y\",\"type\":\"bar\"},{\"alignmentgroup\":\"True\",\"hovertemplate\":\"Brand=%{x}<br>Investment Amount (In Lakhs INR) =%{y}<extra></extra>\",\"legendgroup\":\"RoadBounce\",\"marker\":{\"color\":\"#EF553B\",\"pattern\":{\"shape\":\"\"}},\"name\":\"RoadBounce\",\"offsetgroup\":\"RoadBounce\",\"orientation\":\"v\",\"showlegend\":true,\"textposition\":\"auto\",\"x\":[\"RoadBounce\"],\"xaxis\":\"x\",\"y\":[80],\"yaxis\":\"y\",\"type\":\"bar\"},{\"alignmentgroup\":\"True\",\"hovertemplate\":\"Brand=%{x}<br>Investment Amount (In Lakhs INR) =%{y}<extra></extra>\",\"legendgroup\":\"BluePine Industries\",\"marker\":{\"color\":\"#00cc96\",\"pattern\":{\"shape\":\"\"}},\"name\":\"BluePine Industries\",\"offsetgroup\":\"BluePine Industries\",\"orientation\":\"v\",\"showlegend\":true,\"textposition\":\"auto\",\"x\":[\"BluePine Industries\"],\"xaxis\":\"x\",\"y\":[75],\"yaxis\":\"y\",\"type\":\"bar\"},{\"alignmentgroup\":\"True\",\"hovertemplate\":\"Brand=%{x}<br>Investment Amount (In Lakhs INR) =%{y}<extra></extra>\",\"legendgroup\":\"Auli Lifestyle\",\"marker\":{\"color\":\"#ab63fa\",\"pattern\":{\"shape\":\"\"}},\"name\":\"Auli Lifestyle\",\"offsetgroup\":\"Auli Lifestyle\",\"orientation\":\"v\",\"showlegend\":true,\"textposition\":\"auto\",\"x\":[\"Auli Lifestyle\"],\"xaxis\":\"x\",\"y\":[75],\"yaxis\":\"y\",\"type\":\"bar\"},{\"alignmentgroup\":\"True\",\"hovertemplate\":\"Brand=%{x}<br>Investment Amount (In Lakhs INR) =%{y}<extra></extra>\",\"legendgroup\":\"AyuRythm\",\"marker\":{\"color\":\"#FFA15A\",\"pattern\":{\"shape\":\"\"}},\"name\":\"AyuRythm\",\"offsetgroup\":\"AyuRythm\",\"orientation\":\"v\",\"showlegend\":true,\"textposition\":\"auto\",\"x\":[\"AyuRythm\"],\"xaxis\":\"x\",\"y\":[75],\"yaxis\":\"y\",\"type\":\"bar\"},{\"alignmentgroup\":\"True\",\"hovertemplate\":\"Brand=%{x}<br>Investment Amount (In Lakhs INR) =%{y}<extra></extra>\",\"legendgroup\":\"Wakao Foods\",\"marker\":{\"color\":\"#19d3f3\",\"pattern\":{\"shape\":\"\"}},\"name\":\"Wakao Foods\",\"offsetgroup\":\"Wakao Foods\",\"orientation\":\"v\",\"showlegend\":true,\"textposition\":\"auto\",\"x\":[\"Wakao Foods\"],\"xaxis\":\"x\",\"y\":[75],\"yaxis\":\"y\",\"type\":\"bar\"},{\"alignmentgroup\":\"True\",\"hovertemplate\":\"Brand=%{x}<br>Investment Amount (In Lakhs INR) =%{y}<extra></extra>\",\"legendgroup\":\"Peeschute\",\"marker\":{\"color\":\"#FF6692\",\"pattern\":{\"shape\":\"\"}},\"name\":\"Peeschute\",\"offsetgroup\":\"Peeschute\",\"orientation\":\"v\",\"showlegend\":true,\"textposition\":\"auto\",\"x\":[\"Peeschute\"],\"xaxis\":\"x\",\"y\":[75],\"yaxis\":\"y\",\"type\":\"bar\"},{\"alignmentgroup\":\"True\",\"hovertemplate\":\"Brand=%{x}<br>Investment Amount (In Lakhs INR) =%{y}<extra></extra>\",\"legendgroup\":\"Bummer\",\"marker\":{\"color\":\"#B6E880\",\"pattern\":{\"shape\":\"\"}},\"name\":\"Bummer\",\"offsetgroup\":\"Bummer\",\"orientation\":\"v\",\"showlegend\":true,\"textposition\":\"auto\",\"x\":[\"Bummer\"],\"xaxis\":\"x\",\"y\":[75],\"yaxis\":\"y\",\"type\":\"bar\"},{\"alignmentgroup\":\"True\",\"hovertemplate\":\"Brand=%{x}<br>Investment Amount (In Lakhs INR) =%{y}<extra></extra>\",\"legendgroup\":\"Beyond Water\",\"marker\":{\"color\":\"#FF97FF\",\"pattern\":{\"shape\":\"\"}},\"name\":\"Beyond Water\",\"offsetgroup\":\"Beyond Water\",\"orientation\":\"v\",\"showlegend\":true,\"textposition\":\"auto\",\"x\":[\"Beyond Water\"],\"xaxis\":\"x\",\"y\":[75],\"yaxis\":\"y\",\"type\":\"bar\"},{\"alignmentgroup\":\"True\",\"hovertemplate\":\"Brand=%{x}<br>Investment Amount (In Lakhs INR) =%{y}<extra></extra>\",\"legendgroup\":\"Tagz Foods\",\"marker\":{\"color\":\"#FECB52\",\"pattern\":{\"shape\":\"\"}},\"name\":\"Tagz Foods\",\"offsetgroup\":\"Tagz Foods\",\"orientation\":\"v\",\"showlegend\":true,\"textposition\":\"auto\",\"x\":[\"Tagz Foods\"],\"xaxis\":\"x\",\"y\":[70],\"yaxis\":\"y\",\"type\":\"bar\"},{\"alignmentgroup\":\"True\",\"hovertemplate\":\"Brand=%{x}<br>Investment Amount (In Lakhs INR) =%{y}<extra></extra>\",\"legendgroup\":\"Rare Planet\",\"marker\":{\"color\":\"#636efa\",\"pattern\":{\"shape\":\"\"}},\"name\":\"Rare Planet\",\"offsetgroup\":\"Rare Planet\",\"orientation\":\"v\",\"showlegend\":true,\"textposition\":\"auto\",\"x\":[\"Rare Planet\"],\"xaxis\":\"x\",\"y\":[65],\"yaxis\":\"y\",\"type\":\"bar\"},{\"alignmentgroup\":\"True\",\"hovertemplate\":\"Brand=%{x}<br>Investment Amount (In Lakhs INR) =%{y}<extra></extra>\",\"legendgroup\":\"Tweek Labs\",\"marker\":{\"color\":\"#EF553B\",\"pattern\":{\"shape\":\"\"}},\"name\":\"Tweek Labs\",\"offsetgroup\":\"Tweek Labs\",\"orientation\":\"v\",\"showlegend\":true,\"textposition\":\"auto\",\"x\":[\"Tweek Labs\"],\"xaxis\":\"x\",\"y\":[60],\"yaxis\":\"y\",\"type\":\"bar\"},{\"alignmentgroup\":\"True\",\"hovertemplate\":\"Brand=%{x}<br>Investment Amount (In Lakhs INR) =%{y}<extra></extra>\",\"legendgroup\":\"Hair Originals\",\"marker\":{\"color\":\"#00cc96\",\"pattern\":{\"shape\":\"\"}},\"name\":\"Hair Originals\",\"offsetgroup\":\"Hair Originals\",\"orientation\":\"v\",\"showlegend\":true,\"textposition\":\"auto\",\"x\":[\"Hair Originals\"],\"xaxis\":\"x\",\"y\":[60],\"yaxis\":\"y\",\"type\":\"bar\"},{\"alignmentgroup\":\"True\",\"hovertemplate\":\"Brand=%{x}<br>Investment Amount (In Lakhs INR) =%{y}<extra></extra>\",\"legendgroup\":\"WeSTOCK\",\"marker\":{\"color\":\"#ab63fa\",\"pattern\":{\"shape\":\"\"}},\"name\":\"WeSTOCK\",\"offsetgroup\":\"WeSTOCK\",\"orientation\":\"v\",\"showlegend\":true,\"textposition\":\"auto\",\"x\":[\"WeSTOCK\"],\"xaxis\":\"x\",\"y\":[60],\"yaxis\":\"y\",\"type\":\"bar\"},{\"alignmentgroup\":\"True\",\"hovertemplate\":\"Brand=%{x}<br>Investment Amount (In Lakhs INR) =%{y}<extra></extra>\",\"legendgroup\":\"Vivalyf Innovations- Easy Life\",\"marker\":{\"color\":\"#FFA15A\",\"pattern\":{\"shape\":\"\"}},\"name\":\"Vivalyf Innovations- Easy Life\",\"offsetgroup\":\"Vivalyf Innovations- Easy Life\",\"orientation\":\"v\",\"showlegend\":true,\"textposition\":\"auto\",\"x\":[\"Vivalyf Innovations- Easy Life\"],\"xaxis\":\"x\",\"y\":[56],\"yaxis\":\"y\",\"type\":\"bar\"},{\"alignmentgroup\":\"True\",\"hovertemplate\":\"Brand=%{x}<br>Investment Amount (In Lakhs INR) =%{y}<extra></extra>\",\"legendgroup\":\"The Sass Bar\",\"marker\":{\"color\":\"#19d3f3\",\"pattern\":{\"shape\":\"\"}},\"name\":\"The Sass Bar\",\"offsetgroup\":\"The Sass Bar\",\"orientation\":\"v\",\"showlegend\":true,\"textposition\":\"auto\",\"x\":[\"The Sass Bar\"],\"xaxis\":\"x\",\"y\":[50],\"yaxis\":\"y\",\"type\":\"bar\"},{\"alignmentgroup\":\"True\",\"hovertemplate\":\"Brand=%{x}<br>Investment Amount (In Lakhs INR) =%{y}<extra></extra>\",\"legendgroup\":\"GrowFitter\",\"marker\":{\"color\":\"#FF6692\",\"pattern\":{\"shape\":\"\"}},\"name\":\"GrowFitter\",\"offsetgroup\":\"GrowFitter\",\"orientation\":\"v\",\"showlegend\":true,\"textposition\":\"auto\",\"x\":[\"GrowFitter\"],\"xaxis\":\"x\",\"y\":[50],\"yaxis\":\"y\",\"type\":\"bar\"},{\"alignmentgroup\":\"True\",\"hovertemplate\":\"Brand=%{x}<br>Investment Amount (In Lakhs INR) =%{y}<extra></extra>\",\"legendgroup\":\"Cosiq\",\"marker\":{\"color\":\"#B6E880\",\"pattern\":{\"shape\":\"\"}},\"name\":\"Cosiq\",\"offsetgroup\":\"Cosiq\",\"orientation\":\"v\",\"showlegend\":true,\"textposition\":\"auto\",\"x\":[\"Cosiq\"],\"xaxis\":\"x\",\"y\":[50],\"yaxis\":\"y\",\"type\":\"bar\"},{\"alignmentgroup\":\"True\",\"hovertemplate\":\"Brand=%{x}<br>Investment Amount (In Lakhs INR) =%{y}<extra></extra>\",\"legendgroup\":\"ARRCOAT Surface Textures\",\"marker\":{\"color\":\"#FF97FF\",\"pattern\":{\"shape\":\"\"}},\"name\":\"ARRCOAT Surface Textures\",\"offsetgroup\":\"ARRCOAT Surface Textures\",\"orientation\":\"v\",\"showlegend\":true,\"textposition\":\"auto\",\"x\":[\"ARRCOAT Surface Textures\"],\"xaxis\":\"x\",\"y\":[50],\"yaxis\":\"y\",\"type\":\"bar\"},{\"alignmentgroup\":\"True\",\"hovertemplate\":\"Brand=%{x}<br>Investment Amount (In Lakhs INR) =%{y}<extra></extra>\",\"legendgroup\":\"Caragreen\",\"marker\":{\"color\":\"#FECB52\",\"pattern\":{\"shape\":\"\"}},\"name\":\"Caragreen\",\"offsetgroup\":\"Caragreen\",\"orientation\":\"v\",\"showlegend\":true,\"textposition\":\"auto\",\"x\":[\"Caragreen\"],\"xaxis\":\"x\",\"y\":[50],\"yaxis\":\"y\",\"type\":\"bar\"}],                        {\"template\":{\"data\":{\"bar\":[{\"error_x\":{\"color\":\"#f2f5fa\"},\"error_y\":{\"color\":\"#f2f5fa\"},\"marker\":{\"line\":{\"color\":\"rgb(17,17,17)\",\"width\":0.5},\"pattern\":{\"fillmode\":\"overlay\",\"size\":10,\"solidity\":0.2}},\"type\":\"bar\"}],\"barpolar\":[{\"marker\":{\"line\":{\"color\":\"rgb(17,17,17)\",\"width\":0.5},\"pattern\":{\"fillmode\":\"overlay\",\"size\":10,\"solidity\":0.2}},\"type\":\"barpolar\"}],\"carpet\":[{\"aaxis\":{\"endlinecolor\":\"#A2B1C6\",\"gridcolor\":\"#506784\",\"linecolor\":\"#506784\",\"minorgridcolor\":\"#506784\",\"startlinecolor\":\"#A2B1C6\"},\"baxis\":{\"endlinecolor\":\"#A2B1C6\",\"gridcolor\":\"#506784\",\"linecolor\":\"#506784\",\"minorgridcolor\":\"#506784\",\"startlinecolor\":\"#A2B1C6\"},\"type\":\"carpet\"}],\"choropleth\":[{\"colorbar\":{\"outlinewidth\":0,\"ticks\":\"\"},\"type\":\"choropleth\"}],\"contour\":[{\"colorbar\":{\"outlinewidth\":0,\"ticks\":\"\"},\"colorscale\":[[0.0,\"#0d0887\"],[0.1111111111111111,\"#46039f\"],[0.2222222222222222,\"#7201a8\"],[0.3333333333333333,\"#9c179e\"],[0.4444444444444444,\"#bd3786\"],[0.5555555555555556,\"#d8576b\"],[0.6666666666666666,\"#ed7953\"],[0.7777777777777778,\"#fb9f3a\"],[0.8888888888888888,\"#fdca26\"],[1.0,\"#f0f921\"]],\"type\":\"contour\"}],\"contourcarpet\":[{\"colorbar\":{\"outlinewidth\":0,\"ticks\":\"\"},\"type\":\"contourcarpet\"}],\"heatmap\":[{\"colorbar\":{\"outlinewidth\":0,\"ticks\":\"\"},\"colorscale\":[[0.0,\"#0d0887\"],[0.1111111111111111,\"#46039f\"],[0.2222222222222222,\"#7201a8\"],[0.3333333333333333,\"#9c179e\"],[0.4444444444444444,\"#bd3786\"],[0.5555555555555556,\"#d8576b\"],[0.6666666666666666,\"#ed7953\"],[0.7777777777777778,\"#fb9f3a\"],[0.8888888888888888,\"#fdca26\"],[1.0,\"#f0f921\"]],\"type\":\"heatmap\"}],\"heatmapgl\":[{\"colorbar\":{\"outlinewidth\":0,\"ticks\":\"\"},\"colorscale\":[[0.0,\"#0d0887\"],[0.1111111111111111,\"#46039f\"],[0.2222222222222222,\"#7201a8\"],[0.3333333333333333,\"#9c179e\"],[0.4444444444444444,\"#bd3786\"],[0.5555555555555556,\"#d8576b\"],[0.6666666666666666,\"#ed7953\"],[0.7777777777777778,\"#fb9f3a\"],[0.8888888888888888,\"#fdca26\"],[1.0,\"#f0f921\"]],\"type\":\"heatmapgl\"}],\"histogram\":[{\"marker\":{\"pattern\":{\"fillmode\":\"overlay\",\"size\":10,\"solidity\":0.2}},\"type\":\"histogram\"}],\"histogram2d\":[{\"colorbar\":{\"outlinewidth\":0,\"ticks\":\"\"},\"colorscale\":[[0.0,\"#0d0887\"],[0.1111111111111111,\"#46039f\"],[0.2222222222222222,\"#7201a8\"],[0.3333333333333333,\"#9c179e\"],[0.4444444444444444,\"#bd3786\"],[0.5555555555555556,\"#d8576b\"],[0.6666666666666666,\"#ed7953\"],[0.7777777777777778,\"#fb9f3a\"],[0.8888888888888888,\"#fdca26\"],[1.0,\"#f0f921\"]],\"type\":\"histogram2d\"}],\"histogram2dcontour\":[{\"colorbar\":{\"outlinewidth\":0,\"ticks\":\"\"},\"colorscale\":[[0.0,\"#0d0887\"],[0.1111111111111111,\"#46039f\"],[0.2222222222222222,\"#7201a8\"],[0.3333333333333333,\"#9c179e\"],[0.4444444444444444,\"#bd3786\"],[0.5555555555555556,\"#d8576b\"],[0.6666666666666666,\"#ed7953\"],[0.7777777777777778,\"#fb9f3a\"],[0.8888888888888888,\"#fdca26\"],[1.0,\"#f0f921\"]],\"type\":\"histogram2dcontour\"}],\"mesh3d\":[{\"colorbar\":{\"outlinewidth\":0,\"ticks\":\"\"},\"type\":\"mesh3d\"}],\"parcoords\":[{\"line\":{\"colorbar\":{\"outlinewidth\":0,\"ticks\":\"\"}},\"type\":\"parcoords\"}],\"pie\":[{\"automargin\":true,\"type\":\"pie\"}],\"scatter\":[{\"marker\":{\"line\":{\"color\":\"#283442\"}},\"type\":\"scatter\"}],\"scatter3d\":[{\"line\":{\"colorbar\":{\"outlinewidth\":0,\"ticks\":\"\"}},\"marker\":{\"colorbar\":{\"outlinewidth\":0,\"ticks\":\"\"}},\"type\":\"scatter3d\"}],\"scattercarpet\":[{\"marker\":{\"colorbar\":{\"outlinewidth\":0,\"ticks\":\"\"}},\"type\":\"scattercarpet\"}],\"scattergeo\":[{\"marker\":{\"colorbar\":{\"outlinewidth\":0,\"ticks\":\"\"}},\"type\":\"scattergeo\"}],\"scattergl\":[{\"marker\":{\"line\":{\"color\":\"#283442\"}},\"type\":\"scattergl\"}],\"scattermapbox\":[{\"marker\":{\"colorbar\":{\"outlinewidth\":0,\"ticks\":\"\"}},\"type\":\"scattermapbox\"}],\"scatterpolar\":[{\"marker\":{\"colorbar\":{\"outlinewidth\":0,\"ticks\":\"\"}},\"type\":\"scatterpolar\"}],\"scatterpolargl\":[{\"marker\":{\"colorbar\":{\"outlinewidth\":0,\"ticks\":\"\"}},\"type\":\"scatterpolargl\"}],\"scatterternary\":[{\"marker\":{\"colorbar\":{\"outlinewidth\":0,\"ticks\":\"\"}},\"type\":\"scatterternary\"}],\"surface\":[{\"colorbar\":{\"outlinewidth\":0,\"ticks\":\"\"},\"colorscale\":[[0.0,\"#0d0887\"],[0.1111111111111111,\"#46039f\"],[0.2222222222222222,\"#7201a8\"],[0.3333333333333333,\"#9c179e\"],[0.4444444444444444,\"#bd3786\"],[0.5555555555555556,\"#d8576b\"],[0.6666666666666666,\"#ed7953\"],[0.7777777777777778,\"#fb9f3a\"],[0.8888888888888888,\"#fdca26\"],[1.0,\"#f0f921\"]],\"type\":\"surface\"}],\"table\":[{\"cells\":{\"fill\":{\"color\":\"#506784\"},\"line\":{\"color\":\"rgb(17,17,17)\"}},\"header\":{\"fill\":{\"color\":\"#2a3f5f\"},\"line\":{\"color\":\"rgb(17,17,17)\"}},\"type\":\"table\"}]},\"layout\":{\"annotationdefaults\":{\"arrowcolor\":\"#f2f5fa\",\"arrowhead\":0,\"arrowwidth\":1},\"autotypenumbers\":\"strict\",\"coloraxis\":{\"colorbar\":{\"outlinewidth\":0,\"ticks\":\"\"}},\"colorscale\":{\"diverging\":[[0,\"#8e0152\"],[0.1,\"#c51b7d\"],[0.2,\"#de77ae\"],[0.3,\"#f1b6da\"],[0.4,\"#fde0ef\"],[0.5,\"#f7f7f7\"],[0.6,\"#e6f5d0\"],[0.7,\"#b8e186\"],[0.8,\"#7fbc41\"],[0.9,\"#4d9221\"],[1,\"#276419\"]],\"sequential\":[[0.0,\"#0d0887\"],[0.1111111111111111,\"#46039f\"],[0.2222222222222222,\"#7201a8\"],[0.3333333333333333,\"#9c179e\"],[0.4444444444444444,\"#bd3786\"],[0.5555555555555556,\"#d8576b\"],[0.6666666666666666,\"#ed7953\"],[0.7777777777777778,\"#fb9f3a\"],[0.8888888888888888,\"#fdca26\"],[1.0,\"#f0f921\"]],\"sequentialminus\":[[0.0,\"#0d0887\"],[0.1111111111111111,\"#46039f\"],[0.2222222222222222,\"#7201a8\"],[0.3333333333333333,\"#9c179e\"],[0.4444444444444444,\"#bd3786\"],[0.5555555555555556,\"#d8576b\"],[0.6666666666666666,\"#ed7953\"],[0.7777777777777778,\"#fb9f3a\"],[0.8888888888888888,\"#fdca26\"],[1.0,\"#f0f921\"]]},\"colorway\":[\"#636efa\",\"#EF553B\",\"#00cc96\",\"#ab63fa\",\"#FFA15A\",\"#19d3f3\",\"#FF6692\",\"#B6E880\",\"#FF97FF\",\"#FECB52\"],\"font\":{\"color\":\"#f2f5fa\"},\"geo\":{\"bgcolor\":\"rgb(17,17,17)\",\"lakecolor\":\"rgb(17,17,17)\",\"landcolor\":\"rgb(17,17,17)\",\"showlakes\":true,\"showland\":true,\"subunitcolor\":\"#506784\"},\"hoverlabel\":{\"align\":\"left\"},\"hovermode\":\"closest\",\"mapbox\":{\"style\":\"dark\"},\"paper_bgcolor\":\"rgb(17,17,17)\",\"plot_bgcolor\":\"rgb(17,17,17)\",\"polar\":{\"angularaxis\":{\"gridcolor\":\"#506784\",\"linecolor\":\"#506784\",\"ticks\":\"\"},\"bgcolor\":\"rgb(17,17,17)\",\"radialaxis\":{\"gridcolor\":\"#506784\",\"linecolor\":\"#506784\",\"ticks\":\"\"}},\"scene\":{\"xaxis\":{\"backgroundcolor\":\"rgb(17,17,17)\",\"gridcolor\":\"#506784\",\"gridwidth\":2,\"linecolor\":\"#506784\",\"showbackground\":true,\"ticks\":\"\",\"zerolinecolor\":\"#C8D4E3\"},\"yaxis\":{\"backgroundcolor\":\"rgb(17,17,17)\",\"gridcolor\":\"#506784\",\"gridwidth\":2,\"linecolor\":\"#506784\",\"showbackground\":true,\"ticks\":\"\",\"zerolinecolor\":\"#C8D4E3\"},\"zaxis\":{\"backgroundcolor\":\"rgb(17,17,17)\",\"gridcolor\":\"#506784\",\"gridwidth\":2,\"linecolor\":\"#506784\",\"showbackground\":true,\"ticks\":\"\",\"zerolinecolor\":\"#C8D4E3\"}},\"shapedefaults\":{\"line\":{\"color\":\"#f2f5fa\"}},\"sliderdefaults\":{\"bgcolor\":\"#C8D4E3\",\"bordercolor\":\"rgb(17,17,17)\",\"borderwidth\":1,\"tickwidth\":0},\"ternary\":{\"aaxis\":{\"gridcolor\":\"#506784\",\"linecolor\":\"#506784\",\"ticks\":\"\"},\"baxis\":{\"gridcolor\":\"#506784\",\"linecolor\":\"#506784\",\"ticks\":\"\"},\"bgcolor\":\"rgb(17,17,17)\",\"caxis\":{\"gridcolor\":\"#506784\",\"linecolor\":\"#506784\",\"ticks\":\"\"}},\"title\":{\"x\":0.05},\"updatemenudefaults\":{\"bgcolor\":\"#506784\",\"borderwidth\":0},\"xaxis\":{\"automargin\":true,\"gridcolor\":\"#283442\",\"linecolor\":\"#506784\",\"ticks\":\"\",\"title\":{\"standoff\":15},\"zerolinecolor\":\"#283442\",\"zerolinewidth\":2},\"yaxis\":{\"automargin\":true,\"gridcolor\":\"#283442\",\"linecolor\":\"#506784\",\"ticks\":\"\",\"title\":{\"standoff\":15},\"zerolinecolor\":\"#283442\",\"zerolinewidth\":2}}},\"xaxis\":{\"anchor\":\"y\",\"domain\":[0.0,1.0],\"title\":{\"text\":\"Brand\"},\"categoryorder\":\"array\",\"categoryarray\":[\"Kabaddi Adda\",\"RoadBounce\",\"BluePine Industries\",\"Auli Lifestyle\",\"AyuRythm\",\"Wakao Foods\",\"Peeschute\",\"Bummer\",\"Beyond Water\",\"Tagz Foods\",\"Rare Planet\",\"Tweek Labs\",\"Hair Originals\",\"WeSTOCK\",\"Vivalyf Innovations- Easy Life\",\"The Sass Bar\",\"GrowFitter\",\"Cosiq\",\"ARRCOAT Surface Textures\",\"Caragreen\"]},\"yaxis\":{\"anchor\":\"x\",\"domain\":[0.0,1.0],\"title\":{\"text\":\"Investment Amount (In Lakhs INR) \"}},\"legend\":{\"title\":{\"text\":\"Brand\"},\"tracegroupgap\":0},\"title\":{\"text\":\"Highest Investment got to Brands\"},\"barmode\":\"relative\"},                        {\"responsive\": true}                    ).then(function(){\n",
       "                            \n",
       "var gd = document.getElementById('091bdb35-4339-4253-81db-fabc338bd2b9');\n",
       "var x = new MutationObserver(function (mutations, observer) {{\n",
       "        var display = window.getComputedStyle(gd).display;\n",
       "        if (!display || display === 'none') {{\n",
       "            console.log([gd, 'removed!']);\n",
       "            Plotly.purge(gd);\n",
       "            observer.disconnect();\n",
       "        }}\n",
       "}});\n",
       "\n",
       "// Listen for the removal of the full notebook cells\n",
       "var notebookContainer = gd.closest('#notebook-container');\n",
       "if (notebookContainer) {{\n",
       "    x.observe(notebookContainer, {childList: true});\n",
       "}}\n",
       "\n",
       "// Listen for the clearing of the current output cell\n",
       "var outputEl = gd.closest('.output');\n",
       "if (outputEl) {{\n",
       "    x.observe(outputEl, {childList: true});\n",
       "}}\n",
       "\n",
       "                        })                };                });            </script>        </div>"
      ]
     },
     "metadata": {},
     "output_type": "display_data"
    }
   ],
   "source": [
    "x=df.sort_values('Investment Amount (In Lakhs INR) ',ascending=False)\n",
    "\n",
    "fig=px.bar(x[0:20],x=\"Brand\",y='Investment Amount (In Lakhs INR) ',color=\"Brand\",title=\"Highest Investment got to Brands\")\n",
    "fig.show()"
   ]
  },
  {
   "cell_type": "code",
   "execution_count": null,
   "id": "7323d838",
   "metadata": {
    "papermill": {
     "duration": 0.049631,
     "end_time": "2022-03-23T10:05:43.323626",
     "exception": false,
     "start_time": "2022-03-23T10:05:43.273995",
     "status": "completed"
    },
    "tags": []
   },
   "outputs": [],
   "source": []
  },
  {
   "cell_type": "code",
   "execution_count": null,
   "id": "c5979e16",
   "metadata": {
    "papermill": {
     "duration": 0.04837,
     "end_time": "2022-03-23T10:05:43.420133",
     "exception": false,
     "start_time": "2022-03-23T10:05:43.371763",
     "status": "completed"
    },
    "tags": []
   },
   "outputs": [],
   "source": []
  }
 ],
 "metadata": {
  "kernelspec": {
   "display_name": "Python 3",
   "language": "python",
   "name": "python3"
  },
  "language_info": {
   "codemirror_mode": {
    "name": "ipython",
    "version": 3
   },
   "file_extension": ".py",
   "mimetype": "text/x-python",
   "name": "python",
   "nbconvert_exporter": "python",
   "pygments_lexer": "ipython3",
   "version": "3.7.12"
  },
  "papermill": {
   "default_parameters": {},
   "duration": 20.925171,
   "end_time": "2022-03-23T10:05:44.379580",
   "environment_variables": {},
   "exception": null,
   "input_path": "__notebook__.ipynb",
   "output_path": "__notebook__.ipynb",
   "parameters": {},
   "start_time": "2022-03-23T10:05:23.454409",
   "version": "2.3.3"
  }
 },
 "nbformat": 4,
 "nbformat_minor": 5
}
